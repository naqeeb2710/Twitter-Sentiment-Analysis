{
 "cells": [
  {
   "cell_type": "code",
   "execution_count": 1,
   "metadata": {},
   "outputs": [],
   "source": [
    "import selenium\n",
    "import pandas as pd\n",
    "import numpy as np\n",
    "import matplotlib.pyplot as plt\n",
    "import seaborn as sns\n",
    "from selenium import webdriver\n",
    "from selenium.webdriver.common.keys import Keys\n",
    "from selenium.webdriver.common.by import By\n",
    "from time import sleep\n",
    "import getpass\n"
   ]
  },
  {
   "cell_type": "code",
   "execution_count": 2,
   "metadata": {},
   "outputs": [],
   "source": [
    "my_user=\"naqeeb2710\"\n",
    "my_pass=getpass.getpass()\n"
   ]
  },
  {
   "cell_type": "code",
   "execution_count": 3,
   "metadata": {},
   "outputs": [],
   "source": [
    "search_item=\"Liss Truss\""
   ]
  },
  {
   "cell_type": "code",
   "execution_count": 4,
   "metadata": {},
   "outputs": [
    {
     "name": "stderr",
     "output_type": "stream",
     "text": [
      "C:\\Users\\naqee\\AppData\\Local\\Temp\\ipykernel_25524\\1402160771.py:2: DeprecationWarning: executable_path has been deprecated, please pass in a Service object\n",
      "  driver=webdriver.Chrome(path)\n"
     ]
    }
   ],
   "source": [
    "path=\"C:\\Program Files\\driver\\chromedriver.exe\"\n",
    "driver=webdriver.Chrome(path)\n",
    "driver.get(\"https://twitter.com/i/flow/login\")\n",
    "sleep(3)"
   ]
  },
  {
   "cell_type": "code",
   "execution_count": 6,
   "metadata": {},
   "outputs": [],
   "source": [
    "user_id=driver.find_element(By.XPATH,\"//input[@type='text']\")\n",
    "user_id.send_keys(my_user)\n",
    "user_id.send_keys(Keys.RETURN)"
   ]
  },
  {
   "cell_type": "code",
   "execution_count": 7,
   "metadata": {},
   "outputs": [],
   "source": [
    "password=driver.find_element(By.XPATH,\"//input[@type='password']\")\n",
    "password.send_keys(my_pass)\n",
    "password.send_keys(Keys.RETURN)\n"
   ]
  },
  {
   "cell_type": "markdown",
   "metadata": {},
   "source": [
    "Scrap Tweets"
   ]
  },
  {
   "cell_type": "code",
   "execution_count": 8,
   "metadata": {},
   "outputs": [],
   "source": [
    "search_box=driver.find_element(By.XPATH,\"//input[@data-testid='SearchBox_Search_Input']\")\n",
    "search_box.send_keys(search_item)\n",
    "search_box.send_keys(Keys.RETURN)"
   ]
  },
  {
   "cell_type": "code",
   "execution_count": 9,
   "metadata": {},
   "outputs": [
    {
     "ename": "StaleElementReferenceException",
     "evalue": "Message: stale element reference: element is not attached to the page document\n  (Session info: chrome=104.0.5112.102)\nStacktrace:\nBacktrace:\n\tOrdinal0 [0x008C78B3+2193587]\n\tOrdinal0 [0x00860681+1771137]\n\tOrdinal0 [0x007741A8+803240]\n\tOrdinal0 [0x00776BB4+814004]\n\tOrdinal0 [0x00776A72+813682]\n\tOrdinal0 [0x00776D00+814336]\n\tOrdinal0 [0x0079DF7F+974719]\n\tOrdinal0 [0x007BD7AC+1103788]\n\tOrdinal0 [0x00798C04+953348]\n\tOrdinal0 [0x007BD9C4+1104324]\n\tOrdinal0 [0x007CDAE2+1170146]\n\tOrdinal0 [0x007BD5C6+1103302]\n\tOrdinal0 [0x007977E0+948192]\n\tOrdinal0 [0x007986E6+952038]\n\tGetHandleVerifier [0x00B70CB2+2738370]\n\tGetHandleVerifier [0x00B621B8+2678216]\n\tGetHandleVerifier [0x009517AA+512954]\n\tGetHandleVerifier [0x00950856+509030]\n\tOrdinal0 [0x0086743B+1799227]\n\tOrdinal0 [0x0086BB68+1817448]\n\tOrdinal0 [0x0086BC55+1817685]\n\tOrdinal0 [0x00875230+1856048]\n\tBaseThreadInitThunk [0x76036739+25]\n\tRtlGetFullPathName_UEx [0x776290AF+1215]\n\tRtlGetFullPathName_UEx [0x7762907D+1165]\n",
     "output_type": "error",
     "traceback": [
      "\u001b[1;31m---------------------------------------------------------------------------\u001b[0m",
      "\u001b[1;31mStaleElementReferenceException\u001b[0m            Traceback (most recent call last)",
      "\u001b[1;32md:\\ML\\UK_PM_Sentiment_Analysis\\main.ipynb Cell 9\u001b[0m in \u001b[0;36m<cell line: 4>\u001b[1;34m()\u001b[0m\n\u001b[0;32m      <a href='vscode-notebook-cell:/d%3A/ML/UK_PM_Sentiment_Analysis/main.ipynb#X11sZmlsZQ%3D%3D?line=3'>4</a>\u001b[0m \u001b[39mwhile\u001b[39;00m \u001b[39mTrue\u001b[39;00m:\n\u001b[0;32m      <a href='vscode-notebook-cell:/d%3A/ML/UK_PM_Sentiment_Analysis/main.ipynb#X11sZmlsZQ%3D%3D?line=4'>5</a>\u001b[0m     \u001b[39mfor\u001b[39;00m tweet \u001b[39min\u001b[39;00m tweets:\n\u001b[1;32m----> <a href='vscode-notebook-cell:/d%3A/ML/UK_PM_Sentiment_Analysis/main.ipynb#X11sZmlsZQ%3D%3D?line=5'>6</a>\u001b[0m         all_tweets\u001b[39m.\u001b[39madd(tweet\u001b[39m.\u001b[39;49mtext)\n\u001b[0;32m      <a href='vscode-notebook-cell:/d%3A/ML/UK_PM_Sentiment_Analysis/main.ipynb#X11sZmlsZQ%3D%3D?line=6'>7</a>\u001b[0m     driver\u001b[39m.\u001b[39mexecute_script(\u001b[39m\"\u001b[39m\u001b[39mwindow.scrollTo(0, document.body.scrollHeight);\u001b[39m\u001b[39m\"\u001b[39m)\n\u001b[0;32m      <a href='vscode-notebook-cell:/d%3A/ML/UK_PM_Sentiment_Analysis/main.ipynb#X11sZmlsZQ%3D%3D?line=7'>8</a>\u001b[0m     sleep(\u001b[39m3\u001b[39m)\n",
      "File \u001b[1;32mc:\\Users\\naqee\\AppData\\Local\\Programs\\Python\\Python310\\lib\\site-packages\\selenium\\webdriver\\remote\\webelement.py:84\u001b[0m, in \u001b[0;36mWebElement.text\u001b[1;34m(self)\u001b[0m\n\u001b[0;32m     81\u001b[0m \u001b[39m@property\u001b[39m\n\u001b[0;32m     82\u001b[0m \u001b[39mdef\u001b[39;00m \u001b[39mtext\u001b[39m(\u001b[39mself\u001b[39m) \u001b[39m-\u001b[39m\u001b[39m>\u001b[39m \u001b[39mstr\u001b[39m:\n\u001b[0;32m     83\u001b[0m     \u001b[39m\"\"\"The text of the element.\"\"\"\u001b[39;00m\n\u001b[1;32m---> 84\u001b[0m     \u001b[39mreturn\u001b[39;00m \u001b[39mself\u001b[39;49m\u001b[39m.\u001b[39;49m_execute(Command\u001b[39m.\u001b[39;49mGET_ELEMENT_TEXT)[\u001b[39m'\u001b[39m\u001b[39mvalue\u001b[39m\u001b[39m'\u001b[39m]\n",
      "File \u001b[1;32mc:\\Users\\naqee\\AppData\\Local\\Programs\\Python\\Python310\\lib\\site-packages\\selenium\\webdriver\\remote\\webelement.py:396\u001b[0m, in \u001b[0;36mWebElement._execute\u001b[1;34m(self, command, params)\u001b[0m\n\u001b[0;32m    394\u001b[0m     params \u001b[39m=\u001b[39m {}\n\u001b[0;32m    395\u001b[0m params[\u001b[39m'\u001b[39m\u001b[39mid\u001b[39m\u001b[39m'\u001b[39m] \u001b[39m=\u001b[39m \u001b[39mself\u001b[39m\u001b[39m.\u001b[39m_id\n\u001b[1;32m--> 396\u001b[0m \u001b[39mreturn\u001b[39;00m \u001b[39mself\u001b[39;49m\u001b[39m.\u001b[39;49m_parent\u001b[39m.\u001b[39;49mexecute(command, params)\n",
      "File \u001b[1;32mc:\\Users\\naqee\\AppData\\Local\\Programs\\Python\\Python310\\lib\\site-packages\\selenium\\webdriver\\remote\\webdriver.py:428\u001b[0m, in \u001b[0;36mWebDriver.execute\u001b[1;34m(self, driver_command, params)\u001b[0m\n\u001b[0;32m    426\u001b[0m response \u001b[39m=\u001b[39m \u001b[39mself\u001b[39m\u001b[39m.\u001b[39mcommand_executor\u001b[39m.\u001b[39mexecute(driver_command, params)\n\u001b[0;32m    427\u001b[0m \u001b[39mif\u001b[39;00m response:\n\u001b[1;32m--> 428\u001b[0m     \u001b[39mself\u001b[39;49m\u001b[39m.\u001b[39;49merror_handler\u001b[39m.\u001b[39;49mcheck_response(response)\n\u001b[0;32m    429\u001b[0m     response[\u001b[39m'\u001b[39m\u001b[39mvalue\u001b[39m\u001b[39m'\u001b[39m] \u001b[39m=\u001b[39m \u001b[39mself\u001b[39m\u001b[39m.\u001b[39m_unwrap_value(\n\u001b[0;32m    430\u001b[0m         response\u001b[39m.\u001b[39mget(\u001b[39m'\u001b[39m\u001b[39mvalue\u001b[39m\u001b[39m'\u001b[39m, \u001b[39mNone\u001b[39;00m))\n\u001b[0;32m    431\u001b[0m     \u001b[39mreturn\u001b[39;00m response\n",
      "File \u001b[1;32mc:\\Users\\naqee\\AppData\\Local\\Programs\\Python\\Python310\\lib\\site-packages\\selenium\\webdriver\\remote\\errorhandler.py:243\u001b[0m, in \u001b[0;36mErrorHandler.check_response\u001b[1;34m(self, response)\u001b[0m\n\u001b[0;32m    241\u001b[0m         alert_text \u001b[39m=\u001b[39m value[\u001b[39m'\u001b[39m\u001b[39malert\u001b[39m\u001b[39m'\u001b[39m]\u001b[39m.\u001b[39mget(\u001b[39m'\u001b[39m\u001b[39mtext\u001b[39m\u001b[39m'\u001b[39m)\n\u001b[0;32m    242\u001b[0m     \u001b[39mraise\u001b[39;00m exception_class(message, screen, stacktrace, alert_text)  \u001b[39m# type: ignore[call-arg]  # mypy is not smart enough here\u001b[39;00m\n\u001b[1;32m--> 243\u001b[0m \u001b[39mraise\u001b[39;00m exception_class(message, screen, stacktrace)\n",
      "\u001b[1;31mStaleElementReferenceException\u001b[0m: Message: stale element reference: element is not attached to the page document\n  (Session info: chrome=104.0.5112.102)\nStacktrace:\nBacktrace:\n\tOrdinal0 [0x008C78B3+2193587]\n\tOrdinal0 [0x00860681+1771137]\n\tOrdinal0 [0x007741A8+803240]\n\tOrdinal0 [0x00776BB4+814004]\n\tOrdinal0 [0x00776A72+813682]\n\tOrdinal0 [0x00776D00+814336]\n\tOrdinal0 [0x0079DF7F+974719]\n\tOrdinal0 [0x007BD7AC+1103788]\n\tOrdinal0 [0x00798C04+953348]\n\tOrdinal0 [0x007BD9C4+1104324]\n\tOrdinal0 [0x007CDAE2+1170146]\n\tOrdinal0 [0x007BD5C6+1103302]\n\tOrdinal0 [0x007977E0+948192]\n\tOrdinal0 [0x007986E6+952038]\n\tGetHandleVerifier [0x00B70CB2+2738370]\n\tGetHandleVerifier [0x00B621B8+2678216]\n\tGetHandleVerifier [0x009517AA+512954]\n\tGetHandleVerifier [0x00950856+509030]\n\tOrdinal0 [0x0086743B+1799227]\n\tOrdinal0 [0x0086BB68+1817448]\n\tOrdinal0 [0x0086BC55+1817685]\n\tOrdinal0 [0x00875230+1856048]\n\tBaseThreadInitThunk [0x76036739+25]\n\tRtlGetFullPathName_UEx [0x776290AF+1215]\n\tRtlGetFullPathName_UEx [0x7762907D+1165]\n"
     ]
    }
   ],
   "source": [
    "all_tweets=set()\n",
    "tweets=driver.find_elements(By.XPATH,\"//div[@data-testid='tweetText']\")\n",
    "\n",
    "while True:\n",
    "    for tweet in tweets:\n",
    "        all_tweets.add(tweet.text)\n",
    "    driver.execute_script(\"window.scrollTo(0, document.body.scrollHeight);\")\n",
    "    sleep(3)\n",
    "    tweets=driver.find_elements(By.XPATH,\"//div[@data-testid='tweetText']\")\n",
    "    if len(all_tweets)>50:\n",
    "        break\n",
    "\n",
    "    "
   ]
  },
  {
   "cell_type": "code",
   "execution_count": 10,
   "metadata": {},
   "outputs": [
    {
     "data": {
      "text/plain": [
       "'Padmashree Anandhan \\nProject Associate, NIAS Europe Studies, School of Conflict & Security Studies\\n\\n\"Who will be the next UK prime minister: Liss Truss v. Rishi Sunak\"\\nNIAS Europe Studies, 06 August 2022'"
      ]
     },
     "execution_count": 10,
     "metadata": {},
     "output_type": "execute_result"
    }
   ],
   "source": [
    "all_tweets=list(all_tweets)\n",
    "all_tweets[0]"
   ]
  },
  {
   "cell_type": "markdown",
   "metadata": {},
   "source": [
    "Cleaning The Tweets"
   ]
  },
  {
   "cell_type": "code",
   "execution_count": null,
   "metadata": {},
   "outputs": [],
   "source": []
  },
  {
   "cell_type": "markdown",
   "metadata": {},
   "source": []
  }
 ],
 "metadata": {
  "kernelspec": {
   "display_name": "Python 3.10.4 64-bit",
   "language": "python",
   "name": "python3"
  },
  "language_info": {
   "codemirror_mode": {
    "name": "ipython",
    "version": 3
   },
   "file_extension": ".py",
   "mimetype": "text/x-python",
   "name": "python",
   "nbconvert_exporter": "python",
   "pygments_lexer": "ipython3",
   "version": "3.10.4"
  },
  "orig_nbformat": 4,
  "vscode": {
   "interpreter": {
    "hash": "f63384437ad330efa7e513c68b7da5c49c8ca8e6e9b94e6ef8293f573f496b54"
   }
  }
 },
 "nbformat": 4,
 "nbformat_minor": 2
}
