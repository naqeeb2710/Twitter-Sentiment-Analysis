{
 "cells": [
  {
   "cell_type": "markdown",
   "metadata": {},
   "source": [
    "Twitter Sentiments Analysis"
   ]
  },
  {
   "cell_type": "code",
   "execution_count": 54,
   "metadata": {},
   "outputs": [],
   "source": [
    "import selenium\n",
    "import pandas as pd\n",
    "import numpy as np\n",
    "import matplotlib.pyplot as plt\n",
    "import seaborn as sns\n",
    "from selenium import webdriver\n",
    "from selenium.webdriver.common.keys import Keys\n",
    "from selenium.webdriver.common.by import By\n",
    "from time import sleep\n",
    "import getpass\n",
    "pd.options.display.max_colwidth = 1000\n"
   ]
  },
  {
   "cell_type": "code",
   "execution_count": 55,
   "metadata": {},
   "outputs": [],
   "source": [
    "my_user=\"naqeeb2710\"\n",
    "my_pass=getpass.getpass()\n"
   ]
  },
  {
   "cell_type": "code",
   "execution_count": 56,
   "metadata": {},
   "outputs": [],
   "source": [
    "search_item=\"Manish Sisodia\""
   ]
  },
  {
   "cell_type": "code",
   "execution_count": 57,
   "metadata": {},
   "outputs": [
    {
     "name": "stderr",
     "output_type": "stream",
     "text": [
      "C:\\Users\\naqee\\AppData\\Local\\Temp\\ipykernel_24028\\1402160771.py:2: DeprecationWarning: executable_path has been deprecated, please pass in a Service object\n",
      "  driver=webdriver.Chrome(path)\n"
     ]
    }
   ],
   "source": [
    "path=\"C:\\Program Files\\driver\\chromedriver.exe\"\n",
    "driver=webdriver.Chrome(path)\n",
    "driver.get(\"https://twitter.com/i/flow/login\")\n",
    "sleep(3)"
   ]
  },
  {
   "cell_type": "code",
   "execution_count": 58,
   "metadata": {},
   "outputs": [],
   "source": [
    "user_id=driver.find_element(By.XPATH,\"//input[@type='text']\")\n",
    "user_id.send_keys(my_user)\n",
    "user_id.send_keys(Keys.RETURN)"
   ]
  },
  {
   "cell_type": "code",
   "execution_count": 62,
   "metadata": {},
   "outputs": [],
   "source": [
    "password=driver.find_element(By.XPATH,\"//input[@type='password']\")\n",
    "password.send_keys(my_pass)\n",
    "password.send_keys(Keys.RETURN)\n"
   ]
  },
  {
   "cell_type": "markdown",
   "metadata": {},
   "source": [
    "Scrap Tweets"
   ]
  },
  {
   "cell_type": "code",
   "execution_count": 63,
   "metadata": {},
   "outputs": [],
   "source": [
    "search_box=driver.find_element(By.XPATH,\"//input[@data-testid='SearchBox_Search_Input']\")\n",
    "search_box.send_keys(search_item)\n",
    "search_box.send_keys(Keys.RETURN)"
   ]
  },
  {
   "cell_type": "code",
   "execution_count": 65,
   "metadata": {},
   "outputs": [],
   "source": [
    "all_tweets=set()\n",
    "tweets=driver.find_elements(By.XPATH,\"//div[@data-testid='tweetText']\")\n",
    "\n",
    "while True:\n",
    "    for tweet in tweets:\n",
    "        all_tweets.add(tweet.text)\n",
    "    driver.execute_script(\"window.scrollTo(0, document.body.scrollHeight);\")\n",
    "    sleep(3)\n",
    "    tweets=driver.find_elements(By.XPATH,\"//div[@data-testid='tweetText']\")\n",
    "    if len(all_tweets)>100:\n",
    "        break\n",
    "\n",
    "    "
   ]
  },
  {
   "cell_type": "code",
   "execution_count": 66,
   "metadata": {},
   "outputs": [
    {
     "data": {
      "text/plain": [
       "'There are 3 types of lies — lies, damn lies and paid lies!Crores was spent on “meaningless advertisements “ in India by \\n@ArvindKejriwal\\n and now they have reached the International media too!! #ManishSisodia has lot of explaining to do on liquor policy \\n@ManojTiwariMP\\n \\n@BJP4India'"
      ]
     },
     "execution_count": 66,
     "metadata": {},
     "output_type": "execute_result"
    }
   ],
   "source": [
    "all_tweets=list(all_tweets)\n",
    "all_tweets[0]"
   ]
  },
  {
   "cell_type": "markdown",
   "metadata": {},
   "source": [
    "Cleaning The Tweets"
   ]
  },
  {
   "cell_type": "code",
   "execution_count": 67,
   "metadata": {},
   "outputs": [
    {
     "name": "stderr",
     "output_type": "stream",
     "text": [
      "[nltk_data] Downloading package punkt to\n",
      "[nltk_data]     C:\\Users\\naqee\\AppData\\Roaming\\nltk_data...\n",
      "[nltk_data]   Package punkt is already up-to-date!\n",
      "[nltk_data] Downloading package stopwords to\n",
      "[nltk_data]     C:\\Users\\naqee\\AppData\\Roaming\\nltk_data...\n",
      "[nltk_data]   Package stopwords is already up-to-date!\n"
     ]
    }
   ],
   "source": [
    "import re\n",
    "import nltk\n",
    "nltk.download('punkt')\n",
    "nltk.download('stopwords')\n",
    "from nltk.corpus import stopwords\n",
    "from nltk.tokenize import word_tokenize"
   ]
  },
  {
   "cell_type": "code",
   "execution_count": 68,
   "metadata": {},
   "outputs": [
    {
     "data": {
      "text/html": [
       "<div>\n",
       "<style scoped>\n",
       "    .dataframe tbody tr th:only-of-type {\n",
       "        vertical-align: middle;\n",
       "    }\n",
       "\n",
       "    .dataframe tbody tr th {\n",
       "        vertical-align: top;\n",
       "    }\n",
       "\n",
       "    .dataframe thead th {\n",
       "        text-align: right;\n",
       "    }\n",
       "</style>\n",
       "<table border=\"1\" class=\"dataframe\">\n",
       "  <thead>\n",
       "    <tr style=\"text-align: right;\">\n",
       "      <th></th>\n",
       "      <th>Tweets</th>\n",
       "    </tr>\n",
       "  </thead>\n",
       "  <tbody>\n",
       "    <tr>\n",
       "      <th>0</th>\n",
       "      <td>There are 3 types of lies — lies, damn lies and paid lies!Crores was spent on “meaningless advertisements “ in India by \\n@ArvindKejriwal\\n and now they have reached the International media too!! #ManishSisodia has lot of explaining to do on liquor policy \\n@ManojTiwariMP\\n \\n@BJP4India</td>\n",
       "    </tr>\n",
       "    <tr>\n",
       "      <th>1</th>\n",
       "      <td>Delhi | Today we are speaking for AAP party, but when the opposition is raided, AAP chooses silence: RJD Manoj Jha on raid at Delhi Dy CM Manish Sisodia's house</td>\n",
       "    </tr>\n",
       "    <tr>\n",
       "      <th>2</th>\n",
       "      <td>Today Manish Sisodia was declared the best Education Minister in the world but a CBI team reached his residence to conduct a raid. So, there'll be a lot of obstacles. It wasn't easy to appear on the front page of New York Times &amp;bring an Education Revolution in Delhi: CM Kejriwal</td>\n",
       "    </tr>\n",
       "    <tr>\n",
       "      <th>3</th>\n",
       "      <td>#ManishSisodia forget’s his memory his memory at CBI offie</td>\n",
       "    </tr>\n",
       "    <tr>\n",
       "      <th>4</th>\n",
       "      <td>How can we forget where it all started?\\n\\nNew York Times &amp; Khaleej Times following foot steps of \\n@ppbajpai\\n &amp; \\n@ArvindKejriwal\\n exploiting them!\\n\\nBahut Krantikari #ManishSisodia</td>\n",
       "    </tr>\n",
       "  </tbody>\n",
       "</table>\n",
       "</div>"
      ],
      "text/plain": [
       "                                                                                                                                                                                                                                                                                            Tweets\n",
       "0  There are 3 types of lies — lies, damn lies and paid lies!Crores was spent on “meaningless advertisements “ in India by \\n@ArvindKejriwal\\n and now they have reached the International media too!! #ManishSisodia has lot of explaining to do on liquor policy \\n@ManojTiwariMP\\n \\n@BJP4India\n",
       "1                                                                                                                                 Delhi | Today we are speaking for AAP party, but when the opposition is raided, AAP chooses silence: RJD Manoj Jha on raid at Delhi Dy CM Manish Sisodia's house\n",
       "2         Today Manish Sisodia was declared the best Education Minister in the world but a CBI team reached his residence to conduct a raid. So, there'll be a lot of obstacles. It wasn't easy to appear on the front page of New York Times &bring an Education Revolution in Delhi: CM Kejriwal\n",
       "3                                                                                                                                                                                                                                       #ManishSisodia forget’s his memory his memory at CBI offie\n",
       "4                                                                                                        How can we forget where it all started?\\n\\nNew York Times & Khaleej Times following foot steps of \\n@ppbajpai\\n & \\n@ArvindKejriwal\\n exploiting them!\\n\\nBahut Krantikari #ManishSisodia"
      ]
     },
     "execution_count": 68,
     "metadata": {},
     "output_type": "execute_result"
    }
   ],
   "source": [
    "df=pd.DataFrame(all_tweets,columns=[\"Tweets\"])\n",
    "df.head()"
   ]
  },
  {
   "cell_type": "code",
   "execution_count": 69,
   "metadata": {},
   "outputs": [
    {
     "name": "stdout",
     "output_type": "stream",
     "text": [
      "['i', 'me', 'my', 'myself', 'we', 'our', 'ours', 'ourselves', 'you', \"you're\", \"you've\", \"you'll\", \"you'd\", 'your', 'yours', 'yourself', 'yourselves', 'he', 'him', 'his', 'himself', 'she', \"she's\", 'her', 'hers', 'herself', 'it', \"it's\", 'its', 'itself', 'they', 'them', 'their', 'theirs', 'themselves', 'what', 'which', 'who', 'whom', 'this', 'that', \"that'll\", 'these', 'those', 'am', 'is', 'are', 'was', 'were', 'be', 'been', 'being', 'have', 'has', 'had', 'having', 'do', 'does', 'did', 'doing', 'a', 'an', 'the', 'and', 'but', 'if', 'or', 'because', 'as', 'until', 'while', 'of', 'at', 'by', 'for', 'with', 'about', 'against', 'between', 'into', 'through', 'during', 'before', 'after', 'above', 'below', 'to', 'from', 'up', 'down', 'in', 'out', 'on', 'off', 'over', 'under', 'again', 'further', 'then', 'once', 'here', 'there', 'when', 'where', 'why', 'how', 'all', 'any', 'both', 'each', 'few', 'more', 'most', 'other', 'some', 'such', 'no', 'nor', 'not', 'only', 'own', 'same', 'so', 'than', 'too', 'very', 's', 't', 'can', 'will', 'just', 'don', \"don't\", 'should', \"should've\", 'now', 'd', 'll', 'm', 'o', 're', 've', 'y', 'ain', 'aren', \"aren't\", 'couldn', \"couldn't\", 'didn', \"didn't\", 'doesn', \"doesn't\", 'hadn', \"hadn't\", 'hasn', \"hasn't\", 'haven', \"haven't\", 'isn', \"isn't\", 'ma', 'mightn', \"mightn't\", 'mustn', \"mustn't\", 'needn', \"needn't\", 'shan', \"shan't\", 'shouldn', \"shouldn't\", 'wasn', \"wasn't\", 'weren', \"weren't\", 'won', \"won't\", 'wouldn', \"wouldn't\"]\n"
     ]
    }
   ],
   "source": [
    "stp_words=stopwords.words('english')\n",
    "print(stp_words)"
   ]
  },
  {
   "cell_type": "code",
   "execution_count": 70,
   "metadata": {},
   "outputs": [],
   "source": [
    "def clean_tweet(tweet): \n",
    "    cleanTweet=re.sub(r\"@[a-zA-Z0-9]+\",\"\",tweet)\n",
    "    cleanTweet=re.sub(r\"#[a-zA-Z0-9\\s]+\",\"\",cleanTweet)\n",
    "    cleanTweet=\" \".join(word for word in cleanTweet.split() if word not in stp_words)\n",
    "    return cleanTweet"
   ]
  },
  {
   "cell_type": "code",
   "execution_count": 71,
   "metadata": {},
   "outputs": [
    {
     "data": {
      "text/html": [
       "<div>\n",
       "<style scoped>\n",
       "    .dataframe tbody tr th:only-of-type {\n",
       "        vertical-align: middle;\n",
       "    }\n",
       "\n",
       "    .dataframe tbody tr th {\n",
       "        vertical-align: top;\n",
       "    }\n",
       "\n",
       "    .dataframe thead th {\n",
       "        text-align: right;\n",
       "    }\n",
       "</style>\n",
       "<table border=\"1\" class=\"dataframe\">\n",
       "  <thead>\n",
       "    <tr style=\"text-align: right;\">\n",
       "      <th></th>\n",
       "      <th>Tweets</th>\n",
       "      <th>CleanTweets</th>\n",
       "    </tr>\n",
       "  </thead>\n",
       "  <tbody>\n",
       "    <tr>\n",
       "      <th>0</th>\n",
       "      <td>There are 3 types of lies — lies, damn lies and paid lies!Crores was spent on “meaningless advertisements “ in India by \\n@ArvindKejriwal\\n and now they have reached the International media too!! #ManishSisodia has lot of explaining to do on liquor policy \\n@ManojTiwariMP\\n \\n@BJP4India</td>\n",
       "      <td>There 3 types lies — lies, damn lies paid lies!Crores spent “meaningless advertisements “ India reached International media too!!</td>\n",
       "    </tr>\n",
       "    <tr>\n",
       "      <th>1</th>\n",
       "      <td>Delhi | Today we are speaking for AAP party, but when the opposition is raided, AAP chooses silence: RJD Manoj Jha on raid at Delhi Dy CM Manish Sisodia's house</td>\n",
       "      <td>Delhi | Today speaking AAP party, opposition raided, AAP chooses silence: RJD Manoj Jha raid Delhi Dy CM Manish Sisodia's house</td>\n",
       "    </tr>\n",
       "    <tr>\n",
       "      <th>2</th>\n",
       "      <td>Today Manish Sisodia was declared the best Education Minister in the world but a CBI team reached his residence to conduct a raid. So, there'll be a lot of obstacles. It wasn't easy to appear on the front page of New York Times &amp;bring an Education Revolution in Delhi: CM Kejriwal</td>\n",
       "      <td>Today Manish Sisodia declared best Education Minister world CBI team reached residence conduct raid. So, there'll lot obstacles. It easy appear front page New York Times &amp;bring Education Revolution Delhi: CM Kejriwal</td>\n",
       "    </tr>\n",
       "    <tr>\n",
       "      <th>3</th>\n",
       "      <td>#ManishSisodia forget’s his memory his memory at CBI offie</td>\n",
       "      <td>’s memory memory CBI offie</td>\n",
       "    </tr>\n",
       "    <tr>\n",
       "      <th>4</th>\n",
       "      <td>How can we forget where it all started?\\n\\nNew York Times &amp; Khaleej Times following foot steps of \\n@ppbajpai\\n &amp; \\n@ArvindKejriwal\\n exploiting them!\\n\\nBahut Krantikari #ManishSisodia</td>\n",
       "      <td>How forget started? New York Times &amp; Khaleej Times following foot steps &amp; exploiting them! Bahut Krantikari</td>\n",
       "    </tr>\n",
       "  </tbody>\n",
       "</table>\n",
       "</div>"
      ],
      "text/plain": [
       "                                                                                                                                                                                                                                                                                            Tweets  \\\n",
       "0  There are 3 types of lies — lies, damn lies and paid lies!Crores was spent on “meaningless advertisements “ in India by \\n@ArvindKejriwal\\n and now they have reached the International media too!! #ManishSisodia has lot of explaining to do on liquor policy \\n@ManojTiwariMP\\n \\n@BJP4India   \n",
       "1                                                                                                                                 Delhi | Today we are speaking for AAP party, but when the opposition is raided, AAP chooses silence: RJD Manoj Jha on raid at Delhi Dy CM Manish Sisodia's house   \n",
       "2         Today Manish Sisodia was declared the best Education Minister in the world but a CBI team reached his residence to conduct a raid. So, there'll be a lot of obstacles. It wasn't easy to appear on the front page of New York Times &bring an Education Revolution in Delhi: CM Kejriwal   \n",
       "3                                                                                                                                                                                                                                       #ManishSisodia forget’s his memory his memory at CBI offie   \n",
       "4                                                                                                        How can we forget where it all started?\\n\\nNew York Times & Khaleej Times following foot steps of \\n@ppbajpai\\n & \\n@ArvindKejriwal\\n exploiting them!\\n\\nBahut Krantikari #ManishSisodia   \n",
       "\n",
       "                                                                                                                                                                                                                CleanTweets  \n",
       "0                                                                                         There 3 types lies — lies, damn lies paid lies!Crores spent “meaningless advertisements “ India reached International media too!!  \n",
       "1                                                                                           Delhi | Today speaking AAP party, opposition raided, AAP chooses silence: RJD Manoj Jha raid Delhi Dy CM Manish Sisodia's house  \n",
       "2  Today Manish Sisodia declared best Education Minister world CBI team reached residence conduct raid. So, there'll lot obstacles. It easy appear front page New York Times &bring Education Revolution Delhi: CM Kejriwal  \n",
       "3                                                                                                                                                                                                ’s memory memory CBI offie  \n",
       "4                                                                                                               How forget started? New York Times & Khaleej Times following foot steps & exploiting them! Bahut Krantikari  "
      ]
     },
     "execution_count": 71,
     "metadata": {},
     "output_type": "execute_result"
    }
   ],
   "source": [
    "df['CleanTweets']=df['Tweets'].apply(clean_tweet)\n",
    "df.head()"
   ]
  },
  {
   "cell_type": "markdown",
   "metadata": {},
   "source": [
    "Analysing And Visulaing The Data"
   ]
  },
  {
   "cell_type": "code",
   "execution_count": null,
   "metadata": {},
   "outputs": [],
   "source": []
  }
 ],
 "metadata": {
  "kernelspec": {
   "display_name": "Python 3.10.4 64-bit",
   "language": "python",
   "name": "python3"
  },
  "language_info": {
   "codemirror_mode": {
    "name": "ipython",
    "version": 3
   },
   "file_extension": ".py",
   "mimetype": "text/x-python",
   "name": "python",
   "nbconvert_exporter": "python",
   "pygments_lexer": "ipython3",
   "version": "3.10.4"
  },
  "orig_nbformat": 4,
  "vscode": {
   "interpreter": {
    "hash": "f63384437ad330efa7e513c68b7da5c49c8ca8e6e9b94e6ef8293f573f496b54"
   }
  }
 },
 "nbformat": 4,
 "nbformat_minor": 2
}
